{
 "cells": [
  {
   "cell_type": "markdown",
   "metadata": {},
   "source": [
    "\n",
    "# Open Notebook in Binder Demo\n",
    "\n",
    "This notebook demonstrates opening a simple Python Notebpok in Binder and tests connection to Snowflake\n",
    "\n",
    "## Table of Contents:\n",
    "* [Install Packages and Import Modules](#installpack)\n",
    "* [Connect to Snowflake](#connection)\n",
    "  * [Connection Settings](#connectionsettings)\n",
    "  * [Test the Connection](#testconnection)"
   ]
  },
  {
   "cell_type": "markdown",
   "metadata": {},
   "source": [
    "# Install Packages and Import Modules <a name=installpack></a>\n",
    "\n",
    "First, we ensure that all the necessary libraries are installed. We will need the 'matplotlib' and 'snowflake-connector-python' libraries.\n",
    "\n",
    "- **Matplotlib** is a plotting library and we use it to visually depict the data at differnt stages of our analysis.\n",
    "\n",
    "- **Snowflake Connector for Python** provides an interface for developing Python applications that can connect to Snowflake and perform all standard operations.\n",
    "\n",
    "- **Seaborn** another plotting library used in this notebook to visualize many time series at once\n",
    "\n",
    "These libraries can easily be installed by executing the code in the cell below."
   ]
  },
  {
   "cell_type": "code",
   "execution_count": null,
   "metadata": {
    "tags": []
   },
   "outputs": [],
   "source": [
    "%pip install matplotlib\n",
    "%pip install snowflake-connector-python\n",
    "%pip install seaborn"
   ]
  },
  {
   "cell_type": "markdown",
   "metadata": {},
   "source": [
    "The next step is to import the modules required for this demonstration. Some of the important ones are explained below:<br>\n",
    "- **Requests** is used to make HTTP POST request to obtain the OAuth JWT token. <br>\n",
    "- **JSON** helps us parse the response string into a python dictionary.<br>\n",
    "- **Pandas** is used to help us easily work with the data using DataFrames.<br>\n",
    "- **OS** enables us to set and get authentication parameters from the environment variable. <br>\n",
    "- **Seaborn** is another data visualization module that we will be using along with matplotlib. <br>\n",
    "- **Numpy** is a library used for working with multi-dimensional array objects.<br>\n",
    "- **Logging** is a module in the standard library that provides the facility to work with the framework for releasing log messages and is used to track events.<br>\n",
    "- **Datetime/Time** are used for working with date and time.<br>\n",
    "\n",
    "These commonly used modules can be imported by executing the code in the next cell."
   ]
  },
  {
   "cell_type": "code",
   "execution_count": null,
   "metadata": {},
   "outputs": [],
   "source": [
    "import json\n",
    "import logging\n",
    "import os\n",
    "import time\n",
    "from datetime import date, datetime, timedelta\n",
    "from json import dumps\n",
    "\n",
    "import numpy as np\n",
    "import pandas as pd\n",
    "import requests\n",
    "import seaborn as sns\n",
    "import snowflake.connector\n"
   ]
  },
  {
   "cell_type": "markdown",
   "metadata": {},
   "source": [
    "# Connect to Snowflake<a name=connection></a>"
   ]
  },
  {
   "cell_type": "markdown",
   "metadata": {},
   "source": [
    "## Connection Settings <a name=connectionsettings></a>\n",
    "\n",
    "There are a few different ways to connect to snowflake via the python-connector package. See the web page https://docs.snowflake.com/en/user-guide/python-connector-example.html#connecting-to-snowflake for the different options.\n",
    "\n",
    "We'll be using the SSO flow in our example. https://docs.snowflake.com/en/user-guide/admin-security-fed-auth-use.html\n",
    "\n",
    "**Important**\n",
    "\n",
    "You'll need to log in using an external browser for this flow. Run the following code cell and follow the output text. If you are running under a Jupyter environment, it may not be possible to launch the browser directly. Instead you'll need to click the link and then **copy and paste the resulting URL into the input box in the output of the cell**. The resulting url may start with localhost:44875/?token=XXXX . Please copy-paste the entire URL into the box.\n",
    "\n"
   ]
  },
  {
   "cell_type": "code",
   "execution_count": null,
   "metadata": {},
   "outputs": [],
   "source": [
    "# External Browser Flow\n",
    "SNOWFLAKE_USERNAME = os.getenv('SNOWFLAKE_USERNAME').lower()  # You can get it by executing this query in Snowflake UI: desc user <username>;\n",
    "SNOWFLAKE_ACCOUNT = os.getenv('SNOWFLAKE_ACCOUNT').lower()  # Add the Snowflake account. Include all of the account-name between https:// and snowflakecomputing.com\n",
    "SNOWFLAKE_WAREHOUSE = os.getenv('SNOWFLAKE_WAREHOUSE').lower()  # Specify the Snowflake Warehouse.\n",
    "SNOWFLAKE_ROLE = os.getenv('SNOWFLAKE-ROLE').lower() # Specify the Snowflake role\n",
    "\n",
    "ctx = snowflake.connector.connect(\n",
    "    user=SNOWFLAKE_USERNAME, \n",
    "    account=SNOWFLAKE_ACCOUNT, \n",
    "    authenticator=\"externalbrowser\", \n",
    "    warehouse=SNOWFLAKE_WAREHOUSE, \n",
    "    role=SNOWFLAKE_ROLE\n",
    ")\n",
    "\n",
    "# Alternatively, if you have a username and password for your snowflake account, you can create the snowflake connector via:\n",
    "# ctx = snowflake.connector.connect(\n",
    "#     user='<user_name>',\n",
    "#     password='<password>',\n",
    "#     account='<account_name>'\n",
    "#     )\n"
   ]
  },
  {
   "cell_type": "markdown",
   "metadata": {},
   "source": [
    "## Test the Connection  <a name=testconnection></a>\n",
    "Let's run a simple test to validate the connection, by getting the current version of Snowflake. If everything is configured correctly, we should see the version number printed below the code cell."
   ]
  },
  {
   "cell_type": "code",
   "execution_count": 5,
   "metadata": {},
   "outputs": [
    {
     "name": "stderr",
     "output_type": "stream",
     "text": [
      "2022-08-04 22:28:17,158 - Snowflake v. 6.26.2 established\n"
     ]
    }
   ],
   "source": [
    "# Create a cursor object\n",
    "cs = ctx.cursor()\n",
    "\n",
    "# Execute a query to retrieve the current version of Snowflake\n",
    "try:\n",
    "    cs.execute(\"SELECT current_version()\")\n",
    "    one_row = cs.fetchone()\n",
    "    logger.info('Snowflake v. %s established', one_row[0])\n",
    "finally:\n",
    "    cs.close()\n",
    "ctx.close()"
   ]
  }
 ],
 "metadata": {
  "kernelspec": {
   "display_name": "Python 3.9.5 64-bit",
   "language": "python",
   "name": "python3"
  },
  "language_info": {
   "codemirror_mode": {
    "name": "ipython",
    "version": 3
   },
   "file_extension": ".py",
   "mimetype": "text/x-python",
   "name": "python",
   "nbconvert_exporter": "python",
   "pygments_lexer": "ipython3",
   "version": "3.9.5"
  },
  "nbms_id": 5309,
  "nbms_version": 1,
  "vscode": {
   "interpreter": {
    "hash": "b0fa6594d8f4cbf19f97940f81e996739fb7646882a419484c72d19e05852a7e"
   }
  }
 },
 "nbformat": 4,
 "nbformat_minor": 4
}
